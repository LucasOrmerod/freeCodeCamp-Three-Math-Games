{
  "nbformat": 4,
  "nbformat_minor": 0,
  "metadata": {
    "colab": {
      "provenance": [],
      "collapsed_sections": [
        "BB25LGS1c8ar",
        "62r8XwX6c-9j",
        "Te1V-3WSmXdn",
        "jhQI5xts6fUF",
        "uvxAbkAgY8Li"
      ]
    },
    "kernelspec": {
      "name": "python3",
      "display_name": "Python 3"
    },
    "language_info": {
      "name": "python"
    }
  },
  "cells": [
    {
      "cell_type": "markdown",
      "source": [
        "# Imports"
      ],
      "metadata": {
        "id": "BB25LGS1c8ar"
      }
    },
    {
      "cell_type": "code",
      "source": [
        "import matplotlib.pyplot as plt\n",
        "import numpy as np\n",
        "import time\n",
        "from matplotlib.widgets import Slider\n",
        "import ipywidgets as widgets\n",
        "from IPython.display import display"
      ],
      "metadata": {
        "id": "Q2lEv1SOc9f0"
      },
      "execution_count": null,
      "outputs": []
    },
    {
      "cell_type": "markdown",
      "source": [
        "# Scatter Plot Game"
      ],
      "metadata": {
        "id": "62r8XwX6c-9j"
      }
    },
    {
      "cell_type": "code",
      "source": [
        "def gen_point(high_difficulty=False):\n",
        "  if high_difficulty is True:\n",
        "    return np.random.randint(-20, 20, 2)\n",
        "  else:\n",
        "    return np.random.randint(-10, 10, 2)\n",
        "\n",
        "def plot_point(x, y, high_difficulty=False):\n",
        "  plt.scatter(x, y, color=\"red\", marker=\"o\")\n",
        "  if high_difficulty is True:\n",
        "    plt.xlim(-20, 20)\n",
        "    plt.ylim(-20, 20)\n",
        "  else:\n",
        "    plt.xlim(-10, 10)\n",
        "    plt.ylim(-10, 10)\n",
        "  plt.xlabel(\"X-axis\")\n",
        "  plt.ylabel(\"Y-axis\")\n",
        "  plt.title(\"Scatter Plot Game\")\n",
        "  plt.show()\n",
        "\n",
        "def user_input(x, y):\n",
        "  guess = input(\"Guess the co-ordinates of the point in this format: x,y: \").split(\",\")\n",
        "  x_guess = int(guess[0])\n",
        "  y_guess = int(guess[1])\n",
        "\n",
        "  if x_guess == x and y_guess == y:\n",
        "    print(\"Correct\")\n",
        "  else:\n",
        "    print(\"Incorrect\")\n",
        "\n",
        "def scatter_plot_game():\n",
        "  difficulty = input(\"Choose difficulty ('normal' or 'high'): \")\n",
        "  if (difficulty == \"high\"):\n",
        "    co = gen_point(True)\n",
        "    plot_point(co[0], co[1], True)\n",
        "    time.sleep(1)\n",
        "    user_input(co[0], co[1])\n",
        "  else:\n",
        "    co = gen_point()\n",
        "    plot_point(co[0], co[1])\n",
        "    time.sleep(1)\n",
        "    user_input(co[0], co[1])\n",
        "  choice = input(\"Play again? (y/n): \")\n",
        "  if choice == \"y\":\n",
        "    time.sleep(0.5)\n",
        "    scatter_plot_game()"
      ],
      "metadata": {
        "id": "1SnRmP_hdBMj"
      },
      "execution_count": null,
      "outputs": []
    },
    {
      "cell_type": "markdown",
      "source": [
        "# Algebra Practice Game"
      ],
      "metadata": {
        "id": "Te1V-3WSmXdn"
      }
    },
    {
      "cell_type": "code",
      "source": [
        "def get_guess():\n",
        "  return float(input(\"Enter your guess: \"))\n",
        "\n",
        "def algebra_practice_game():\n",
        "  difficulty = input(\"Choose difficulty ('normal' or 'high'): \")\n",
        "  if difficulty == \"high\":\n",
        "    x = np.random.randint(-20, 20)\n",
        "    y = np.random.randint(-20, 20)\n",
        "    z = np.random.randint(-20, 20)\n",
        "  else:\n",
        "    x = np.random.randint(-10, 10)\n",
        "    y = np.random.randint(-10, 10)\n",
        "    z = np.random.randint(-10, 10)\n",
        "\n",
        "  operator1 = np.random.choice([\"+\", \"-\"])\n",
        "  operator2 = np.random.choice([\"*\", \"/\"])\n",
        "\n",
        "  problem1 = f\"{x} {operator1} {y}\"\n",
        "  problem2 = f\"{problem1} {operator2} {z}\"\n",
        "\n",
        "  print(\"\\nProblem1: \", problem1)\n",
        "  guess1 = get_guess()\n",
        "\n",
        "  if eval(problem1) == guess1:\n",
        "    print(\"Correct\")\n",
        "  else:\n",
        "    print(\"Incorrect\")\n",
        "\n",
        "  print(\"\\nProblem2: \", problem2)\n",
        "  guess2 = get_guess()\n",
        "\n",
        "  if eval(problem2) == guess2:\n",
        "    print(\"Correct\")\n",
        "  else:\n",
        "    print(\"Incorrect\")\n",
        "\n",
        "  choice = input(\"Play again? (y/n): \")\n",
        "  if choice == \"y\":\n",
        "    time.sleep(0.5)\n",
        "    algebra_practice_game()"
      ],
      "metadata": {
        "id": "CoF9eUIYqEGC"
      },
      "execution_count": null,
      "outputs": []
    },
    {
      "cell_type": "markdown",
      "source": [
        "# Projectile Game"
      ],
      "metadata": {
        "id": "jhQI5xts6fUF"
      }
    },
    {
      "cell_type": "code",
      "source": [
        "def gen_wall():\n",
        "  wall_height = np.random.randint(100, 400)\n",
        "  wall_location = np.random.randint(1, 10)\n",
        "  return wall_height, wall_location\n",
        "\n",
        "def plot(a, b, c, wall_height, wall_location):\n",
        "  x = np.linspace(0, 20, 100)\n",
        "  y = a * (x - b) ** 2 + c\n",
        "\n",
        "  plt.figure(figsize=(10, 5))\n",
        "  plt.plot(x, y)\n",
        "  plt.plot([wall_location, wall_location], [0, wall_height], linestyle=\"--\", color=\"red\")\n",
        "\n",
        "  plt.title(\"Projectile Game\")\n",
        "  plt.xlabel(\"X\")\n",
        "  plt.ylabel(\"Y\")\n",
        "  plt.grid(True)\n",
        "  plt.show()\n",
        "\n",
        "def play_game(a, b, c, wall_height, wall_location):\n",
        "  plot(a, b, c, wall_height, wall_location)\n",
        "\n",
        "def projectile_game():\n",
        "  wall_height, wall_location = gen_wall()\n",
        "\n",
        "  slider_a = widgets.FloatSlider(value=1, min=-5, max=5, step=0.1, description=\"a:\")\n",
        "  slider_b = widgets.FloatSlider(value=0, min=-5, max=5, step=0.1, description=\"b:\")\n",
        "  slider_c = widgets.FloatSlider(value=0, min=-5, max=5, step=0.1, description=\"c:\")\n",
        "\n",
        "  interactive_game = widgets.interactive(play_game, a=slider_a, b=slider_b, c=slider_c, wall_height=wall_height, wall_location=wall_location)\n",
        "  display(widgets.VBox([slider_a, slider_b, slider_c, interactive_game.children[-1]]))"
      ],
      "metadata": {
        "id": "K6eDZDD36hf_"
      },
      "execution_count": null,
      "outputs": []
    },
    {
      "cell_type": "markdown",
      "source": [
        "# Game Selection Menu"
      ],
      "metadata": {
        "id": "uvxAbkAgY8Li"
      }
    },
    {
      "cell_type": "code",
      "source": [
        "def menu():\n",
        "  choice = input(\"\"\"\n",
        "  Please select a game below:\\n\n",
        "  ---------------------------\\n\n",
        "  Press '1' to play the scatter plot game\\n\n",
        "  Press '2' to play the algebra practice game\\n\n",
        "  Press '3' to play the projectile game\\n\n",
        "  ---------------------------\n",
        "  \"\"\")\n",
        "\n",
        "  if choice == \"1\":\n",
        "    scatter_plot_game()\n",
        "  elif choice == \"2\":\n",
        "    algebra_practice_game()\n",
        "  elif choice == \"3\":\n",
        "    projectile_game()\n",
        "  else:\n",
        "    print(\"Option invalid\")"
      ],
      "metadata": {
        "id": "S0OSwSAWY9-r"
      },
      "execution_count": null,
      "outputs": []
    },
    {
      "cell_type": "markdown",
      "source": [
        "Code to run the menu and play the games"
      ],
      "metadata": {
        "id": "hRI6yt7sZbYf"
      }
    },
    {
      "cell_type": "code",
      "source": [
        "menu()"
      ],
      "metadata": {
        "id": "Iv1Kuq4XZdMT"
      },
      "execution_count": null,
      "outputs": []
    }
  ]
}